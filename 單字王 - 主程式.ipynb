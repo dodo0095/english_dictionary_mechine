{
 "cells": [
  {
   "cell_type": "code",
   "execution_count": 1,
   "metadata": {},
   "outputs": [],
   "source": [
    "def meun():\n",
    "    os.system(\"cls\")\n",
    "    print(\"英 文 單 字 王\")\n",
    "    print(\"-------------\")\n",
    "    print(\"1. 查 詢 單 字\")\n",
    "    print(\"2. 新 增 單 字\")\n",
    "    print(\"3. 顯 示 單 字\")\n",
    "    print(\"4. 修 改 單 字\")\n",
    "    print(\"5. 刪 除 單 字\")\n",
    "    print(\"0. 結 束 程 式\")\n",
    "    print(\"-------------\")"
   ]
  },
  {
   "cell_type": "code",
   "execution_count": 2,
   "metadata": {},
   "outputs": [],
   "source": [
    "def ckeckey(no):\n",
    "    key_id=\"\"\n",
    "    if datas !=None:\n",
    "        for key in datas:\n",
    "            if no==datas[key][\"eword\"]:\n",
    "                key_id=key\n",
    "                break\n",
    "    return key_id"
   ]
  },
  {
   "cell_type": "code",
   "execution_count": 3,
   "metadata": {},
   "outputs": [],
   "source": [
    "def input_data():\n",
    "    global datas\n",
    "    while True:\n",
    "        eword=input(\"請輸入英文單字(ＥＮＴＥＲ==>停止輸入)\")\n",
    "        if eword==\"\":break\n",
    "        key_id=ckeckey(eword)\n",
    "        if key_id !=\"\":\n",
    "            print(\"{}此單字已經存在\".format(datas[key_id]))\n",
    "            continue\n",
    "        cword=input(\"請輸入中文翻譯\")\n",
    "        Part_of_speech=input(\"請輸入詞性\")\n",
    "        word={'eword':eword,'cword':cword,\"Part_of_speech\":Part_of_speech}\n",
    "        key_id=fb.post(url,word)[\"name\"]\n",
    "        time.sleep(2)\n",
    "        if datas ==None: datas=dict()\n",
    "        datas[key_id]=word\n",
    "        print(\"{} 已經儲存完畢\".format(word))\n",
    "            "
   ]
  },
  {
   "cell_type": "code",
   "execution_count": 4,
   "metadata": {},
   "outputs": [],
   "source": [
    "def disp_data():\n",
    "    global datas\n",
    "    datas=fb.get(url,None)\n",
    "    if datas !=None:\n",
    "        n,page=0,15\n",
    "        for key in datas:\n",
    "            if n%page==0:\n",
    "                print(\"單字\\t中文翻譯\")\n",
    "                print(\"============\")\n",
    "            print(\"{}\\t{}\".format(datas[key][\"eword\"],datas[key][\"cword\"]))\n",
    "            n+=1\n",
    "            if n ==page:\n",
    "                c=input(\"請按下ENTE 顯示下一頁 按下Q返回主顯示單\")\n",
    "                if c.upper()==\"Q\":return\n",
    "                n=0\n",
    "        c=input(\"請按任意鍵返回主顯示\")\n",
    "                \n",
    "                "
   ]
  },
  {
   "cell_type": "code",
   "execution_count": 5,
   "metadata": {},
   "outputs": [],
   "source": [
    "def search_data():\n",
    "    while True:\n",
    "        eword=input(\"請輸入要查詢的英文單字(ＥＮＴＥＲ==>停止輸入)\")\n",
    "        if eword==\"\":break\n",
    "        key_id=ckeckey(eword)\n",
    "        if key_id !=\"\":\n",
    "            print(\"中文翻譯為：{}\".format(datas[key_id][\"cword\"]))\n",
    "        else:\n",
    "            print(\"單字 {} 尚未建立\".format(datas[key_id][\"eword\"]))\n",
    "        input(\"請按任意鍵繼續查詢\")"
   ]
  },
  {
   "cell_type": "code",
   "execution_count": 29,
   "metadata": {},
   "outputs": [],
   "source": [
    "def edit_data():\n",
    "    global datas\n",
    "    while True:\n",
    "        eword=input(\"請輸入要修改的英文單字(ＥＮＴＥＲ==>停止輸入)\")\n",
    "        if eword==\"\":\n",
    "            break\n",
    "        key_id=ckeckey(eword)\n",
    "        if key_id !=\"\":\n",
    "            print(\"原來得中文翻譯為：{}\".format(datas[key_id][\"cword\"]))\n",
    "            cword=input(\"請輸入想修改成的中文翻譯\")\n",
    "            eword=datas[key_id][\"eword\"]\n",
    "            Part_of_speech=datas[key_id][\"Part_of_speech\"]\n",
    "            word={'eword':eword,'cword':cword,\"Part_of_speech\":Part_of_speech}\n",
    "            datas[key_id]=word\n",
    "            fb.put(url+'/',data=word,name=key_id)\n",
    "            time.sleep(2)\n",
    "            print(\"單字 {} 修改完畢\".format(datas[key_id][\"eword\"]))\n",
    "        else:\n",
    "            print(\"單字 {} 修改失敗\".format(datas[key_id][\"eword\"]))"
   ]
  },
  {
   "cell_type": "code",
   "execution_count": 36,
   "metadata": {},
   "outputs": [],
   "source": [
    "def delete_data():\n",
    "    global datas\n",
    "    while True:\n",
    "        eword=input(\"請輸入要刪除的英文單字(ＥＮＴＥＲ==>停止輸入)\")\n",
    "        if eword==\"\":break\n",
    "        key_id=ckeckey(eword)\n",
    "        if key_id !=\"\":\n",
    "            print(\"是否確定刪除單字：{}\".format(datas.get(key_id)))\n",
    "            yn=input(\"請確認（Y/N）\")\n",
    "            if (yn==\"Y\" or yn==\"y\"):\n",
    "                fb.delete(url+'/'+key_id,None)\n",
    "                datas.pop(key_id)\n",
    "                print(\"單字 {} 刪除完畢\".format(datas[key_id][\"eword\"]))\n",
    "            else:\n",
    "                print(\"單字 {} 刪除失敗\".format(datas[key_id][\"eword\"]))"
   ]
  },
  {
   "cell_type": "code",
   "execution_count": 40,
   "metadata": {},
   "outputs": [
    {
     "name": "stdout",
     "output_type": "stream",
     "text": [
      "英 文 單 字 王\n",
      "-------------\n",
      "1. 查 詢 單 字\n",
      "2. 新 增 單 字\n",
      "3. 顯 示 單 字\n",
      "4. 修 改 單 字\n",
      "5. 刪 除 單 字\n",
      "0. 結 束 程 式\n",
      "-------------\n",
      "請輸入你的選擇5\n",
      "請輸入要刪除的英文單字(ＥＮＴＥＲ==>停止輸入)qq\n",
      "是否確定刪除單字：{'Part_of_speech': 'ㄊ', 'cword': '哭哭', 'eword': 'qq'}\n",
      "請確認（Y/N）y\n",
      "輸入錯誤\n",
      "程式執行完畢\n",
      "英 文 單 字 王\n",
      "-------------\n",
      "1. 查 詢 單 字\n",
      "2. 新 增 單 字\n",
      "3. 顯 示 單 字\n",
      "4. 修 改 單 字\n",
      "5. 刪 除 單 字\n",
      "0. 結 束 程 式\n",
      "-------------\n",
      "請輸入你的選擇0\n"
     ]
    }
   ],
   "source": [
    "# 主程式\n",
    "import os,time\n",
    "from firebase import firebase\n",
    "\n",
    "url=\"https://englishword-1c6fe.firebaseio.com\"\n",
    "fb=firebase.FirebaseApplication(url,None)\n",
    "datas=fb.get(url,None)\n",
    "\n",
    "while True:\n",
    "    meun()\n",
    "    choice=input(\"請輸入你的選擇\")\n",
    "    try:\n",
    "        choice=int(choice)\n",
    "        if choice==1:\n",
    "            search_data()\n",
    "        if choice==2:\n",
    "            input_data()\n",
    "        if choice==3:\n",
    "            disp_data()\n",
    "        if choice==4:\n",
    "            edit_data()\n",
    "        if choice==5:\n",
    "            delete_data()\n",
    "        else:\n",
    "            break\n",
    "    except:\n",
    "        print(\"輸入錯誤\")\n",
    "        time.sleep(1)\n",
    "    print(\"程式執行完畢\")\n",
    "        \n",
    "        \n"
   ]
  },
  {
   "cell_type": "code",
   "execution_count": null,
   "metadata": {},
   "outputs": [],
   "source": [
    "a"
   ]
  }
 ],
 "metadata": {
  "kernelspec": {
   "display_name": "Python 3",
   "language": "python",
   "name": "python3"
  },
  "language_info": {
   "codemirror_mode": {
    "name": "ipython",
    "version": 3
   },
   "file_extension": ".py",
   "mimetype": "text/x-python",
   "name": "python",
   "nbconvert_exporter": "python",
   "pygments_lexer": "ipython3",
   "version": "3.6.3"
  }
 },
 "nbformat": 4,
 "nbformat_minor": 2
}
